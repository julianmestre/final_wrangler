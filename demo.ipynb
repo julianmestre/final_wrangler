{
 "cells": [
  {
   "cell_type": "code",
   "execution_count": 7,
   "metadata": {},
   "outputs": [],
   "source": [
    "from final_wrangler import read_gradescope_evaluations"
   ]
  },
  {
   "cell_type": "code",
   "execution_count": 8,
   "metadata": {},
   "outputs": [],
   "source": [
    "gs_eval_folder = /path/gs_evalutation_folder # replace with actual path\n",
    "aux = read_gradescope_evaluations(gs_eval_folder)"
   ]
  },
  {
   "cell_type": "code",
   "execution_count": null,
   "metadata": {},
   "outputs": [],
   "source": [
    "# aux is dataframe that has one row per student\n",
    "# column \"SID\" identifies the student\n",
    "# column \"report\" lists the rubrics applied and marks granted for each problem/question\n",
    "\n",
    "# here are the first 5 rows of aux\n",
    "aux.head(5)"
   ]
  },
  {
   "cell_type": "code",
   "execution_count": null,
   "metadata": {},
   "outputs": [],
   "source": [
    "# to iterate over all students and their reports, use the following scaffold\n",
    "\n",
    "# here we iterate over the first 5 rows\n",
    "for sid, report in aux.head(5)[['SID', 'report']].itertuples(index=False):\n",
    "    print(report)\n"
   ]
  },
  {
   "cell_type": "code",
   "execution_count": null,
   "metadata": {},
   "outputs": [],
   "source": [
    "# to look up the reports of a given student, use the following recipe\n",
    "\n",
    "sid = 123456789  # replace with actual SID\n",
    "report = aux.loc[aux.SID == sid]['report'][0]\n",
    "print(report)"
   ]
  },
  {
   "cell_type": "code",
   "execution_count": 12,
   "metadata": {},
   "outputs": [],
   "source": [
    "# to export the whole dataframe to an excel file use the following recipe \n",
    "\n",
    "aux.to_excel('~/evaluations.xlsx')"
   ]
  }
 ],
 "metadata": {
  "kernelspec": {
   "display_name": "base",
   "language": "python",
   "name": "python3"
  },
  "language_info": {
   "codemirror_mode": {
    "name": "ipython",
    "version": 3
   },
   "file_extension": ".py",
   "mimetype": "text/x-python",
   "name": "python",
   "nbconvert_exporter": "python",
   "pygments_lexer": "ipython3",
   "version": "3.9.17"
  }
 },
 "nbformat": 4,
 "nbformat_minor": 2
}
